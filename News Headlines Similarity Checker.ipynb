{
  "cells": [
    {
      "cell_type": "code",
      "execution_count": null,
      "metadata": {
        "colab": {
          "base_uri": "https://localhost:8080/"
        },
        "id": "awtkKIin9vpB",
        "outputId": "9374d838-57ca-4728-fff0-3d6ba7c44959"
      },
      "outputs": [
        {
          "name": "stderr",
          "output_type": "stream",
          "text": [
            "[nltk_data] Downloading collection 'all'\n",
            "[nltk_data]    | \n",
            "[nltk_data]    | Downloading package abc to /root/nltk_data...\n",
            "[nltk_data]    |   Package abc is already up-to-date!\n",
            "[nltk_data]    | Downloading package alpino to /root/nltk_data...\n",
            "[nltk_data]    |   Package alpino is already up-to-date!\n",
            "[nltk_data]    | Downloading package averaged_perceptron_tagger to\n",
            "[nltk_data]    |     /root/nltk_data...\n",
            "[nltk_data]    |   Package averaged_perceptron_tagger is already up-\n",
            "[nltk_data]    |       to-date!\n",
            "[nltk_data]    | Downloading package averaged_perceptron_tagger_ru to\n",
            "[nltk_data]    |     /root/nltk_data...\n",
            "[nltk_data]    |   Package averaged_perceptron_tagger_ru is already\n",
            "[nltk_data]    |       up-to-date!\n",
            "[nltk_data]    | Downloading package basque_grammars to\n",
            "[nltk_data]    |     /root/nltk_data...\n",
            "[nltk_data]    |   Package basque_grammars is already up-to-date!\n",
            "[nltk_data]    | Downloading package bcp47 to /root/nltk_data...\n",
            "[nltk_data]    |   Package bcp47 is already up-to-date!\n",
            "[nltk_data]    | Downloading package biocreative_ppi to\n",
            "[nltk_data]    |     /root/nltk_data...\n",
            "[nltk_data]    |   Package biocreative_ppi is already up-to-date!\n",
            "[nltk_data]    | Downloading package bllip_wsj_no_aux to\n",
            "[nltk_data]    |     /root/nltk_data...\n",
            "[nltk_data]    |   Package bllip_wsj_no_aux is already up-to-date!\n",
            "[nltk_data]    | Downloading package book_grammars to\n",
            "[nltk_data]    |     /root/nltk_data...\n",
            "[nltk_data]    |   Package book_grammars is already up-to-date!\n",
            "[nltk_data]    | Downloading package brown to /root/nltk_data...\n",
            "[nltk_data]    |   Package brown is already up-to-date!\n",
            "[nltk_data]    | Downloading package brown_tei to /root/nltk_data...\n",
            "[nltk_data]    |   Package brown_tei is already up-to-date!\n",
            "[nltk_data]    | Downloading package cess_cat to /root/nltk_data...\n",
            "[nltk_data]    |   Package cess_cat is already up-to-date!\n",
            "[nltk_data]    | Downloading package cess_esp to /root/nltk_data...\n",
            "[nltk_data]    |   Package cess_esp is already up-to-date!\n",
            "[nltk_data]    | Downloading package chat80 to /root/nltk_data...\n",
            "[nltk_data]    |   Package chat80 is already up-to-date!\n",
            "[nltk_data]    | Downloading package city_database to\n",
            "[nltk_data]    |     /root/nltk_data...\n",
            "[nltk_data]    |   Package city_database is already up-to-date!\n",
            "[nltk_data]    | Downloading package cmudict to /root/nltk_data...\n",
            "[nltk_data]    |   Package cmudict is already up-to-date!\n",
            "[nltk_data]    | Downloading package comparative_sentences to\n",
            "[nltk_data]    |     /root/nltk_data...\n",
            "[nltk_data]    |   Package comparative_sentences is already up-to-\n",
            "[nltk_data]    |       date!\n",
            "[nltk_data]    | Downloading package comtrans to /root/nltk_data...\n",
            "[nltk_data]    |   Package comtrans is already up-to-date!\n",
            "[nltk_data]    | Downloading package conll2000 to /root/nltk_data...\n",
            "[nltk_data]    |   Package conll2000 is already up-to-date!\n",
            "[nltk_data]    | Downloading package conll2002 to /root/nltk_data...\n",
            "[nltk_data]    |   Package conll2002 is already up-to-date!\n",
            "[nltk_data]    | Downloading package conll2007 to /root/nltk_data...\n",
            "[nltk_data]    |   Package conll2007 is already up-to-date!\n",
            "[nltk_data]    | Downloading package crubadan to /root/nltk_data...\n",
            "[nltk_data]    |   Package crubadan is already up-to-date!\n",
            "[nltk_data]    | Downloading package dependency_treebank to\n",
            "[nltk_data]    |     /root/nltk_data...\n",
            "[nltk_data]    |   Package dependency_treebank is already up-to-date!\n",
            "[nltk_data]    | Downloading package dolch to /root/nltk_data...\n",
            "[nltk_data]    |   Package dolch is already up-to-date!\n",
            "[nltk_data]    | Downloading package europarl_raw to\n",
            "[nltk_data]    |     /root/nltk_data...\n",
            "[nltk_data]    |   Package europarl_raw is already up-to-date!\n",
            "[nltk_data]    | Downloading package extended_omw to\n",
            "[nltk_data]    |     /root/nltk_data...\n",
            "[nltk_data]    |   Package extended_omw is already up-to-date!\n",
            "[nltk_data]    | Downloading package floresta to /root/nltk_data...\n",
            "[nltk_data]    |   Package floresta is already up-to-date!\n",
            "[nltk_data]    | Downloading package framenet_v15 to\n",
            "[nltk_data]    |     /root/nltk_data...\n",
            "[nltk_data]    |   Package framenet_v15 is already up-to-date!\n",
            "[nltk_data]    | Downloading package framenet_v17 to\n",
            "[nltk_data]    |     /root/nltk_data...\n",
            "[nltk_data]    |   Package framenet_v17 is already up-to-date!\n",
            "[nltk_data]    | Downloading package gazetteers to /root/nltk_data...\n",
            "[nltk_data]    |   Package gazetteers is already up-to-date!\n",
            "[nltk_data]    | Downloading package genesis to /root/nltk_data...\n",
            "[nltk_data]    |   Package genesis is already up-to-date!\n",
            "[nltk_data]    | Downloading package gutenberg to /root/nltk_data...\n",
            "[nltk_data]    |   Package gutenberg is already up-to-date!\n",
            "[nltk_data]    | Downloading package ieer to /root/nltk_data...\n",
            "[nltk_data]    |   Package ieer is already up-to-date!\n",
            "[nltk_data]    | Downloading package inaugural to /root/nltk_data...\n",
            "[nltk_data]    |   Package inaugural is already up-to-date!\n",
            "[nltk_data]    | Downloading package indian to /root/nltk_data...\n",
            "[nltk_data]    |   Package indian is already up-to-date!\n",
            "[nltk_data]    | Downloading package jeita to /root/nltk_data...\n",
            "[nltk_data]    |   Package jeita is already up-to-date!\n",
            "[nltk_data]    | Downloading package kimmo to /root/nltk_data...\n",
            "[nltk_data]    |   Package kimmo is already up-to-date!\n",
            "[nltk_data]    | Downloading package knbc to /root/nltk_data...\n",
            "[nltk_data]    |   Package knbc is already up-to-date!\n",
            "[nltk_data]    | Downloading package large_grammars to\n",
            "[nltk_data]    |     /root/nltk_data...\n",
            "[nltk_data]    |   Package large_grammars is already up-to-date!\n",
            "[nltk_data]    | Downloading package lin_thesaurus to\n",
            "[nltk_data]    |     /root/nltk_data...\n",
            "[nltk_data]    |   Package lin_thesaurus is already up-to-date!\n",
            "[nltk_data]    | Downloading package mac_morpho to /root/nltk_data...\n",
            "[nltk_data]    |   Package mac_morpho is already up-to-date!\n",
            "[nltk_data]    | Downloading package machado to /root/nltk_data...\n",
            "[nltk_data]    |   Package machado is already up-to-date!\n",
            "[nltk_data]    | Downloading package masc_tagged to /root/nltk_data...\n",
            "[nltk_data]    |   Package masc_tagged is already up-to-date!\n",
            "[nltk_data]    | Downloading package maxent_ne_chunker to\n",
            "[nltk_data]    |     /root/nltk_data...\n",
            "[nltk_data]    |   Package maxent_ne_chunker is already up-to-date!\n",
            "[nltk_data]    | Downloading package maxent_treebank_pos_tagger to\n",
            "[nltk_data]    |     /root/nltk_data...\n",
            "[nltk_data]    |   Package maxent_treebank_pos_tagger is already up-\n",
            "[nltk_data]    |       to-date!\n",
            "[nltk_data]    | Downloading package moses_sample to\n",
            "[nltk_data]    |     /root/nltk_data...\n",
            "[nltk_data]    |   Package moses_sample is already up-to-date!\n",
            "[nltk_data]    | Downloading package movie_reviews to\n",
            "[nltk_data]    |     /root/nltk_data...\n",
            "[nltk_data]    |   Package movie_reviews is already up-to-date!\n",
            "[nltk_data]    | Downloading package mte_teip5 to /root/nltk_data...\n",
            "[nltk_data]    |   Package mte_teip5 is already up-to-date!\n",
            "[nltk_data]    | Downloading package mwa_ppdb to /root/nltk_data...\n",
            "[nltk_data]    |   Package mwa_ppdb is already up-to-date!\n",
            "[nltk_data]    | Downloading package names to /root/nltk_data...\n",
            "[nltk_data]    |   Package names is already up-to-date!\n",
            "[nltk_data]    | Downloading package nombank.1.0 to /root/nltk_data...\n",
            "[nltk_data]    |   Package nombank.1.0 is already up-to-date!\n",
            "[nltk_data]    | Downloading package nonbreaking_prefixes to\n",
            "[nltk_data]    |     /root/nltk_data...\n",
            "[nltk_data]    |   Package nonbreaking_prefixes is already up-to-date!\n",
            "[nltk_data]    | Downloading package nps_chat to /root/nltk_data...\n",
            "[nltk_data]    |   Package nps_chat is already up-to-date!\n",
            "[nltk_data]    | Downloading package omw to /root/nltk_data...\n",
            "[nltk_data]    |   Package omw is already up-to-date!\n",
            "[nltk_data]    | Downloading package omw-1.4 to /root/nltk_data...\n",
            "[nltk_data]    |   Package omw-1.4 is already up-to-date!\n",
            "[nltk_data]    | Downloading package opinion_lexicon to\n",
            "[nltk_data]    |     /root/nltk_data...\n",
            "[nltk_data]    |   Package opinion_lexicon is already up-to-date!\n",
            "[nltk_data]    | Downloading package panlex_swadesh to\n",
            "[nltk_data]    |     /root/nltk_data...\n",
            "[nltk_data]    |   Package panlex_swadesh is already up-to-date!\n",
            "[nltk_data]    | Downloading package paradigms to /root/nltk_data...\n",
            "[nltk_data]    |   Package paradigms is already up-to-date!\n",
            "[nltk_data]    | Downloading package pe08 to /root/nltk_data...\n",
            "[nltk_data]    |   Package pe08 is already up-to-date!\n",
            "[nltk_data]    | Downloading package perluniprops to\n",
            "[nltk_data]    |     /root/nltk_data...\n",
            "[nltk_data]    |   Package perluniprops is already up-to-date!\n",
            "[nltk_data]    | Downloading package pil to /root/nltk_data...\n",
            "[nltk_data]    |   Package pil is already up-to-date!\n",
            "[nltk_data]    | Downloading package pl196x to /root/nltk_data...\n",
            "[nltk_data]    |   Package pl196x is already up-to-date!\n",
            "[nltk_data]    | Downloading package porter_test to /root/nltk_data...\n",
            "[nltk_data]    |   Package porter_test is already up-to-date!\n",
            "[nltk_data]    | Downloading package ppattach to /root/nltk_data...\n",
            "[nltk_data]    |   Package ppattach is already up-to-date!\n",
            "[nltk_data]    | Downloading package problem_reports to\n",
            "[nltk_data]    |     /root/nltk_data...\n",
            "[nltk_data]    |   Package problem_reports is already up-to-date!\n",
            "[nltk_data]    | Downloading package product_reviews_1 to\n",
            "[nltk_data]    |     /root/nltk_data...\n",
            "[nltk_data]    |   Package product_reviews_1 is already up-to-date!\n",
            "[nltk_data]    | Downloading package product_reviews_2 to\n",
            "[nltk_data]    |     /root/nltk_data...\n",
            "[nltk_data]    |   Package product_reviews_2 is already up-to-date!\n",
            "[nltk_data]    | Downloading package propbank to /root/nltk_data...\n",
            "[nltk_data]    |   Package propbank is already up-to-date!\n",
            "[nltk_data]    | Downloading package pros_cons to /root/nltk_data...\n",
            "[nltk_data]    |   Package pros_cons is already up-to-date!\n",
            "[nltk_data]    | Downloading package ptb to /root/nltk_data...\n",
            "[nltk_data]    |   Package ptb is already up-to-date!\n",
            "[nltk_data]    | Downloading package punkt to /root/nltk_data...\n",
            "[nltk_data]    |   Package punkt is already up-to-date!\n",
            "[nltk_data]    | Downloading package qc to /root/nltk_data...\n",
            "[nltk_data]    |   Package qc is already up-to-date!\n",
            "[nltk_data]    | Downloading package reuters to /root/nltk_data...\n",
            "[nltk_data]    |   Package reuters is already up-to-date!\n",
            "[nltk_data]    | Downloading package rslp to /root/nltk_data...\n",
            "[nltk_data]    |   Package rslp is already up-to-date!\n",
            "[nltk_data]    | Downloading package rte to /root/nltk_data...\n",
            "[nltk_data]    |   Package rte is already up-to-date!\n",
            "[nltk_data]    | Downloading package sample_grammars to\n",
            "[nltk_data]    |     /root/nltk_data...\n",
            "[nltk_data]    |   Package sample_grammars is already up-to-date!\n",
            "[nltk_data]    | Downloading package semcor to /root/nltk_data...\n",
            "[nltk_data]    |   Package semcor is already up-to-date!\n",
            "[nltk_data]    | Downloading package senseval to /root/nltk_data...\n",
            "[nltk_data]    |   Package senseval is already up-to-date!\n",
            "[nltk_data]    | Downloading package sentence_polarity to\n",
            "[nltk_data]    |     /root/nltk_data...\n",
            "[nltk_data]    |   Package sentence_polarity is already up-to-date!\n",
            "[nltk_data]    | Downloading package sentiwordnet to\n",
            "[nltk_data]    |     /root/nltk_data...\n",
            "[nltk_data]    |   Package sentiwordnet is already up-to-date!\n",
            "[nltk_data]    | Downloading package shakespeare to /root/nltk_data...\n",
            "[nltk_data]    |   Package shakespeare is already up-to-date!\n",
            "[nltk_data]    | Downloading package sinica_treebank to\n",
            "[nltk_data]    |     /root/nltk_data...\n",
            "[nltk_data]    |   Package sinica_treebank is already up-to-date!\n",
            "[nltk_data]    | Downloading package smultron to /root/nltk_data...\n",
            "[nltk_data]    |   Package smultron is already up-to-date!\n",
            "[nltk_data]    | Downloading package snowball_data to\n",
            "[nltk_data]    |     /root/nltk_data...\n",
            "[nltk_data]    |   Package snowball_data is already up-to-date!\n",
            "[nltk_data]    | Downloading package spanish_grammars to\n",
            "[nltk_data]    |     /root/nltk_data...\n",
            "[nltk_data]    |   Package spanish_grammars is already up-to-date!\n",
            "[nltk_data]    | Downloading package state_union to /root/nltk_data...\n",
            "[nltk_data]    |   Package state_union is already up-to-date!\n",
            "[nltk_data]    | Downloading package stopwords to /root/nltk_data...\n",
            "[nltk_data]    |   Package stopwords is already up-to-date!\n",
            "[nltk_data]    | Downloading package subjectivity to\n",
            "[nltk_data]    |     /root/nltk_data...\n",
            "[nltk_data]    |   Package subjectivity is already up-to-date!\n",
            "[nltk_data]    | Downloading package swadesh to /root/nltk_data...\n",
            "[nltk_data]    |   Package swadesh is already up-to-date!\n",
            "[nltk_data]    | Downloading package switchboard to /root/nltk_data...\n",
            "[nltk_data]    |   Package switchboard is already up-to-date!\n",
            "[nltk_data]    | Downloading package tagsets to /root/nltk_data...\n",
            "[nltk_data]    |   Package tagsets is already up-to-date!\n",
            "[nltk_data]    | Downloading package timit to /root/nltk_data...\n",
            "[nltk_data]    |   Package timit is already up-to-date!\n",
            "[nltk_data]    | Downloading package toolbox to /root/nltk_data...\n",
            "[nltk_data]    |   Package toolbox is already up-to-date!\n",
            "[nltk_data]    | Downloading package treebank to /root/nltk_data...\n",
            "[nltk_data]    |   Package treebank is already up-to-date!\n",
            "[nltk_data]    | Downloading package twitter_samples to\n",
            "[nltk_data]    |     /root/nltk_data...\n",
            "[nltk_data]    |   Package twitter_samples is already up-to-date!\n",
            "[nltk_data]    | Downloading package udhr to /root/nltk_data...\n",
            "[nltk_data]    |   Package udhr is already up-to-date!\n",
            "[nltk_data]    | Downloading package udhr2 to /root/nltk_data...\n",
            "[nltk_data]    |   Package udhr2 is already up-to-date!\n",
            "[nltk_data]    | Downloading package unicode_samples to\n",
            "[nltk_data]    |     /root/nltk_data...\n",
            "[nltk_data]    |   Package unicode_samples is already up-to-date!\n",
            "[nltk_data]    | Downloading package universal_tagset to\n",
            "[nltk_data]    |     /root/nltk_data...\n",
            "[nltk_data]    |   Package universal_tagset is already up-to-date!\n",
            "[nltk_data]    | Downloading package universal_treebanks_v20 to\n",
            "[nltk_data]    |     /root/nltk_data...\n",
            "[nltk_data]    |   Package universal_treebanks_v20 is already up-to-\n",
            "[nltk_data]    |       date!\n",
            "[nltk_data]    | Downloading package vader_lexicon to\n",
            "[nltk_data]    |     /root/nltk_data...\n",
            "[nltk_data]    |   Package vader_lexicon is already up-to-date!\n",
            "[nltk_data]    | Downloading package verbnet to /root/nltk_data...\n",
            "[nltk_data]    |   Package verbnet is already up-to-date!\n",
            "[nltk_data]    | Downloading package verbnet3 to /root/nltk_data...\n",
            "[nltk_data]    |   Package verbnet3 is already up-to-date!\n",
            "[nltk_data]    | Downloading package webtext to /root/nltk_data...\n",
            "[nltk_data]    |   Package webtext is already up-to-date!\n",
            "[nltk_data]    | Downloading package wmt15_eval to /root/nltk_data...\n",
            "[nltk_data]    |   Package wmt15_eval is already up-to-date!\n",
            "[nltk_data]    | Downloading package word2vec_sample to\n",
            "[nltk_data]    |     /root/nltk_data...\n",
            "[nltk_data]    |   Package word2vec_sample is already up-to-date!\n",
            "[nltk_data]    | Downloading package wordnet to /root/nltk_data...\n",
            "[nltk_data]    |   Package wordnet is already up-to-date!\n",
            "[nltk_data]    | Downloading package wordnet2021 to /root/nltk_data...\n",
            "[nltk_data]    |   Package wordnet2021 is already up-to-date!\n",
            "[nltk_data]    | Downloading package wordnet2022 to /root/nltk_data...\n",
            "[nltk_data]    |   Package wordnet2022 is already up-to-date!\n",
            "[nltk_data]    | Downloading package wordnet31 to /root/nltk_data...\n",
            "[nltk_data]    |   Package wordnet31 is already up-to-date!\n",
            "[nltk_data]    | Downloading package wordnet_ic to /root/nltk_data...\n",
            "[nltk_data]    |   Package wordnet_ic is already up-to-date!\n",
            "[nltk_data]    | Downloading package words to /root/nltk_data...\n",
            "[nltk_data]    |   Package words is already up-to-date!\n",
            "[nltk_data]    | Downloading package ycoe to /root/nltk_data...\n",
            "[nltk_data]    |   Package ycoe is already up-to-date!\n",
            "[nltk_data]    | \n",
            "[nltk_data]  Done downloading collection all\n"
          ]
        }
      ],
      "source": [
        "# import libraries \n",
        "import pandas as pd\n",
        "import numpy as np\n",
        "import seaborn as sns\n",
        "import sklearn\n",
        "import imblearn\n",
        "import nltk\n",
        "nltk.download('all')\n",
        "import string\n",
        "import matplotlib.pyplot as plt\n",
        "from matplotlib import pyplot\n",
        "from sklearn.metrics import accuracy_score\n",
        "from sklearn.metrics import recall_score\n",
        "from sklearn.metrics import precision_score\n",
        "from sklearn.metrics import f1_score\n",
        "from sklearn.metrics import roc_curve\n",
        "from sklearn.metrics import classification_report\n",
        "from imblearn.over_sampling import SMOTE\n",
        "from sklearn.ensemble import RandomForestClassifier\n",
        "from sklearn.svm import LinearSVC\n",
        "from sklearn.linear_model import LogisticRegression\n",
        "from sklearn.tree import DecisionTreeClassifier\n",
        "from sklearn.metrics import confusion_matrix\n",
        "from sklearn.model_selection import train_test_split\n",
        "from nltk.stem import WordNetLemmatizer\n",
        "from nltk.corpus import stopwords\n",
        "from sklearn.feature_extraction.text import TfidfVectorizer\n",
        "from sklearn.naive_bayes import MultinomialNB\n",
        "from imblearn.under_sampling import RandomUnderSampler"
      ]
    },
    {
      "cell_type": "code",
      "execution_count": null,
      "metadata": {
        "id": "Hon4dYCU96Od"
      },
      "outputs": [],
      "source": [
        "#Import train Dataset\n",
        "train=pd.read_csv('/content/train.csv')"
      ]
    },
    {
      "cell_type": "code",
      "execution_count": null,
      "metadata": {
        "id": "2oHd6TIf_Xoq"
      },
      "outputs": [],
      "source": [
        "#Import test Dataset\n",
        "test=pd.read_csv('/content/test.csv')"
      ]
    },
    {
      "cell_type": "code",
      "execution_count": null,
      "metadata": {
        "colab": {
          "base_uri": "https://localhost:8080/",
          "height": 337
        },
        "id": "qv4OGm3o-BYg",
        "outputId": "7c2c358f-cbbf-4428-aba9-3ed997a8a073"
      },
      "outputs": [
        {
          "data": {
            "text/html": [
              "\n",
              "  <div id=\"df-a595ec39-3060-4cea-b693-a589e5500e8b\">\n",
              "    <div class=\"colab-df-container\">\n",
              "      <div>\n",
              "<style scoped>\n",
              "    .dataframe tbody tr th:only-of-type {\n",
              "        vertical-align: middle;\n",
              "    }\n",
              "\n",
              "    .dataframe tbody tr th {\n",
              "        vertical-align: top;\n",
              "    }\n",
              "\n",
              "    .dataframe thead th {\n",
              "        text-align: right;\n",
              "    }\n",
              "</style>\n",
              "<table border=\"1\" class=\"dataframe\">\n",
              "  <thead>\n",
              "    <tr style=\"text-align: right;\">\n",
              "      <th></th>\n",
              "      <th>id</th>\n",
              "      <th>tid1</th>\n",
              "      <th>tid2</th>\n",
              "      <th>title1_en</th>\n",
              "      <th>title2_en</th>\n",
              "      <th>label</th>\n",
              "    </tr>\n",
              "  </thead>\n",
              "  <tbody>\n",
              "    <tr>\n",
              "      <th>0</th>\n",
              "      <td>195611</td>\n",
              "      <td>0</td>\n",
              "      <td>1</td>\n",
              "      <td>There are two new old-age insurance benefits f...</td>\n",
              "      <td>Police disprove \"bird's nest congress each per...</td>\n",
              "      <td>unrelated</td>\n",
              "    </tr>\n",
              "    <tr>\n",
              "      <th>1</th>\n",
              "      <td>191474</td>\n",
              "      <td>2</td>\n",
              "      <td>3</td>\n",
              "      <td>\"If you do not come to Shenzhen, sooner or lat...</td>\n",
              "      <td>Shenzhen's GDP outstrips Hong Kong? Shenzhen S...</td>\n",
              "      <td>unrelated</td>\n",
              "    </tr>\n",
              "    <tr>\n",
              "      <th>2</th>\n",
              "      <td>25300</td>\n",
              "      <td>2</td>\n",
              "      <td>4</td>\n",
              "      <td>\"If you do not come to Shenzhen, sooner or lat...</td>\n",
              "      <td>The GDP overtopped Hong Kong? Shenzhen clarifi...</td>\n",
              "      <td>unrelated</td>\n",
              "    </tr>\n",
              "    <tr>\n",
              "      <th>3</th>\n",
              "      <td>123757</td>\n",
              "      <td>2</td>\n",
              "      <td>8</td>\n",
              "      <td>\"If you do not come to Shenzhen, sooner or lat...</td>\n",
              "      <td>Shenzhen's GDP overtakes Hong Kong? Bureau of ...</td>\n",
              "      <td>unrelated</td>\n",
              "    </tr>\n",
              "    <tr>\n",
              "      <th>4</th>\n",
              "      <td>141761</td>\n",
              "      <td>2</td>\n",
              "      <td>11</td>\n",
              "      <td>\"If you do not come to Shenzhen, sooner or lat...</td>\n",
              "      <td>Shenzhen's GDP outpaces Hong Kong? Defending R...</td>\n",
              "      <td>unrelated</td>\n",
              "    </tr>\n",
              "  </tbody>\n",
              "</table>\n",
              "</div>\n",
              "      <button class=\"colab-df-convert\" onclick=\"convertToInteractive('df-a595ec39-3060-4cea-b693-a589e5500e8b')\"\n",
              "              title=\"Convert this dataframe to an interactive table.\"\n",
              "              style=\"display:none;\">\n",
              "        \n",
              "  <svg xmlns=\"http://www.w3.org/2000/svg\" height=\"24px\"viewBox=\"0 0 24 24\"\n",
              "       width=\"24px\">\n",
              "    <path d=\"M0 0h24v24H0V0z\" fill=\"none\"/>\n",
              "    <path d=\"M18.56 5.44l.94 2.06.94-2.06 2.06-.94-2.06-.94-.94-2.06-.94 2.06-2.06.94zm-11 1L8.5 8.5l.94-2.06 2.06-.94-2.06-.94L8.5 2.5l-.94 2.06-2.06.94zm10 10l.94 2.06.94-2.06 2.06-.94-2.06-.94-.94-2.06-.94 2.06-2.06.94z\"/><path d=\"M17.41 7.96l-1.37-1.37c-.4-.4-.92-.59-1.43-.59-.52 0-1.04.2-1.43.59L10.3 9.45l-7.72 7.72c-.78.78-.78 2.05 0 2.83L4 21.41c.39.39.9.59 1.41.59.51 0 1.02-.2 1.41-.59l7.78-7.78 2.81-2.81c.8-.78.8-2.07 0-2.86zM5.41 20L4 18.59l7.72-7.72 1.47 1.35L5.41 20z\"/>\n",
              "  </svg>\n",
              "      </button>\n",
              "      \n",
              "  <style>\n",
              "    .colab-df-container {\n",
              "      display:flex;\n",
              "      flex-wrap:wrap;\n",
              "      gap: 12px;\n",
              "    }\n",
              "\n",
              "    .colab-df-convert {\n",
              "      background-color: #E8F0FE;\n",
              "      border: none;\n",
              "      border-radius: 50%;\n",
              "      cursor: pointer;\n",
              "      display: none;\n",
              "      fill: #1967D2;\n",
              "      height: 32px;\n",
              "      padding: 0 0 0 0;\n",
              "      width: 32px;\n",
              "    }\n",
              "\n",
              "    .colab-df-convert:hover {\n",
              "      background-color: #E2EBFA;\n",
              "      box-shadow: 0px 1px 2px rgba(60, 64, 67, 0.3), 0px 1px 3px 1px rgba(60, 64, 67, 0.15);\n",
              "      fill: #174EA6;\n",
              "    }\n",
              "\n",
              "    [theme=dark] .colab-df-convert {\n",
              "      background-color: #3B4455;\n",
              "      fill: #D2E3FC;\n",
              "    }\n",
              "\n",
              "    [theme=dark] .colab-df-convert:hover {\n",
              "      background-color: #434B5C;\n",
              "      box-shadow: 0px 1px 3px 1px rgba(0, 0, 0, 0.15);\n",
              "      filter: drop-shadow(0px 1px 2px rgba(0, 0, 0, 0.3));\n",
              "      fill: #FFFFFF;\n",
              "    }\n",
              "  </style>\n",
              "\n",
              "      <script>\n",
              "        const buttonEl =\n",
              "          document.querySelector('#df-a595ec39-3060-4cea-b693-a589e5500e8b button.colab-df-convert');\n",
              "        buttonEl.style.display =\n",
              "          google.colab.kernel.accessAllowed ? 'block' : 'none';\n",
              "\n",
              "        async function convertToInteractive(key) {\n",
              "          const element = document.querySelector('#df-a595ec39-3060-4cea-b693-a589e5500e8b');\n",
              "          const dataTable =\n",
              "            await google.colab.kernel.invokeFunction('convertToInteractive',\n",
              "                                                     [key], {});\n",
              "          if (!dataTable) return;\n",
              "\n",
              "          const docLinkHtml = 'Like what you see? Visit the ' +\n",
              "            '<a target=\"_blank\" href=https://colab.research.google.com/notebooks/data_table.ipynb>data table notebook</a>'\n",
              "            + ' to learn more about interactive tables.';\n",
              "          element.innerHTML = '';\n",
              "          dataTable['output_type'] = 'display_data';\n",
              "          await google.colab.output.renderOutput(dataTable, element);\n",
              "          const docLink = document.createElement('div');\n",
              "          docLink.innerHTML = docLinkHtml;\n",
              "          element.appendChild(docLink);\n",
              "        }\n",
              "      </script>\n",
              "    </div>\n",
              "  </div>\n",
              "  "
            ],
            "text/plain": [
              "       id  tid1  tid2                                          title1_en  \\\n",
              "0  195611     0     1  There are two new old-age insurance benefits f...   \n",
              "1  191474     2     3  \"If you do not come to Shenzhen, sooner or lat...   \n",
              "2   25300     2     4  \"If you do not come to Shenzhen, sooner or lat...   \n",
              "3  123757     2     8  \"If you do not come to Shenzhen, sooner or lat...   \n",
              "4  141761     2    11  \"If you do not come to Shenzhen, sooner or lat...   \n",
              "\n",
              "                                           title2_en      label  \n",
              "0  Police disprove \"bird's nest congress each per...  unrelated  \n",
              "1  Shenzhen's GDP outstrips Hong Kong? Shenzhen S...  unrelated  \n",
              "2  The GDP overtopped Hong Kong? Shenzhen clarifi...  unrelated  \n",
              "3  Shenzhen's GDP overtakes Hong Kong? Bureau of ...  unrelated  \n",
              "4  Shenzhen's GDP outpaces Hong Kong? Defending R...  unrelated  "
            ]
          },
          "execution_count": 116,
          "metadata": {},
          "output_type": "execute_result"
        }
      ],
      "source": [
        "train.head()"
      ]
    },
    {
      "cell_type": "code",
      "execution_count": null,
      "metadata": {
        "colab": {
          "base_uri": "https://localhost:8080/"
        },
        "id": "QaPnh034-Fav",
        "outputId": "8ac3bb49-9f1c-415e-84d3-a61378f4a303"
      },
      "outputs": [
        {
          "data": {
            "text/plain": [
              "(256442, 6)"
            ]
          },
          "execution_count": 117,
          "metadata": {},
          "output_type": "execute_result"
        }
      ],
      "source": [
        "train.shape"
      ]
    },
    {
      "cell_type": "code",
      "execution_count": null,
      "metadata": {
        "colab": {
          "base_uri": "https://localhost:8080/"
        },
        "id": "KGCSE8ai-JWg",
        "outputId": "a2090bcf-9b4b-45c0-9d22-97f6e7d4ea18"
      },
      "outputs": [
        {
          "name": "stdout",
          "output_type": "stream",
          "text": [
            "<class 'pandas.core.frame.DataFrame'>\n",
            "RangeIndex: 256442 entries, 0 to 256441\n",
            "Data columns (total 6 columns):\n",
            " #   Column     Non-Null Count   Dtype \n",
            "---  ------     --------------   ----- \n",
            " 0   id         256442 non-null  int64 \n",
            " 1   tid1       256442 non-null  int64 \n",
            " 2   tid2       256442 non-null  int64 \n",
            " 3   title1_en  256442 non-null  object\n",
            " 4   title2_en  256442 non-null  object\n",
            " 5   label      256442 non-null  object\n",
            "dtypes: int64(3), object(3)\n",
            "memory usage: 11.7+ MB\n"
          ]
        }
      ],
      "source": [
        "train.info()"
      ]
    },
    {
      "cell_type": "code",
      "execution_count": null,
      "metadata": {
        "colab": {
          "base_uri": "https://localhost:8080/"
        },
        "id": "atDUFvqS-M5W",
        "outputId": "2a4fdda2-9735-4026-ca29-05a68a896637"
      },
      "outputs": [
        {
          "data": {
            "text/plain": [
              "id           0\n",
              "tid1         0\n",
              "tid2         0\n",
              "title1_en    0\n",
              "title2_en    0\n",
              "label        0\n",
              "dtype: int64"
            ]
          },
          "execution_count": 119,
          "metadata": {},
          "output_type": "execute_result"
        }
      ],
      "source": [
        "train.isna().sum()"
      ]
    },
    {
      "cell_type": "code",
      "execution_count": null,
      "metadata": {
        "colab": {
          "base_uri": "https://localhost:8080/"
        },
        "id": "5rF6ZV9j-Pv6",
        "outputId": "a2d47da3-9723-471a-fa19-0b23c1871437"
      },
      "outputs": [
        {
          "name": "stdout",
          "output_type": "stream",
          "text": [
            "label\n",
            "agreed        74238\n",
            "disagreed      6606\n",
            "unrelated    175598\n",
            "dtype: int64\n"
          ]
        }
      ],
      "source": [
        "print(train.groupby('label').size())"
      ]
    },
    {
      "cell_type": "code",
      "execution_count": null,
      "metadata": {
        "colab": {
          "base_uri": "https://localhost:8080/",
          "height": 449
        },
        "id": "jUi_Ki_0-R5T",
        "outputId": "baf064d2-d073-4509-bc97-3641b58614d8"
      },
      "outputs": [
        {
          "data": {
            "image/png": "[encoded data removed]",
            "text/plain": [
              "<Figure size 640x480 with 1 Axes>"
            ]
          },
          "metadata": {},
          "output_type": "display_data"
        }
      ],
      "source": [
        "sns.countplot(x=\"label\",data=train)\n",
        "plt.ylabel(\"Count\")\n",
        "plt.xlabel(\"Label\")\n",
        "plt.show()"
      ]
    },
    {
      "cell_type": "code",
      "execution_count": null,
      "metadata": {
        "colab": {
          "base_uri": "https://localhost:8080/"
        },
        "id": "tG6SHOYQ-Uhi",
        "outputId": "f7acfdb2-583e-40a1-e7a4-74165cb2cd01"
      },
      "outputs": [
        {
          "name": "stdout",
          "output_type": "stream",
          "text": [
            "There are two new old-age insurance benefits for old people in rural areas. Have you got them?\n",
            "Police disprove \"bird's nest congress each person gets 50,000 yuan\" still old people insist on going to beijing\n"
          ]
        }
      ],
      "source": [
        "#Before text processing train data\n",
        "print(train['title1_en'].iloc[0])\n",
        "print(train['title2_en'].iloc[0])"
      ]
    },
    {
      "cell_type": "code",
      "execution_count": null,
      "metadata": {
        "colab": {
          "base_uri": "https://localhost:8080/"
        },
        "id": "BppobdcKmI2j",
        "outputId": "d3a66c82-2227-439e-9f10-5ceffaf02f73"
      },
      "outputs": [
        {
          "name": "stdout",
          "output_type": "stream",
          "text": [
            "The great coat brother Zhu Zhu Wen, in the mandarin love song to sing the song is really the lanca- talent is very sweet!\n",
            "Lin xinsheng after the birth of \"hard milking,\" Huo jianhua is not seen, \"forced marriage\" is real?\n"
          ]
        }
      ],
      "source": [
        "#Before text processing test data\n",
        "print(test['title1_en'].iloc[0])\n",
        "print(test['title2_en'].iloc[0])"
      ]
    },
    {
      "cell_type": "code",
      "execution_count": null,
      "metadata": {
        "colab": {
          "base_uri": "https://localhost:8080/"
        },
        "id": "kW6PDTy7-YQU",
        "outputId": "696dbcfa-d274-48be-9cb9-1b239b8194b6"
      },
      "outputs": [
        {
          "name": "stdout",
          "output_type": "stream",
          "text": [
            "there are two new old-age insurance benefits for old people in rural areas. have you got them?\n",
            "police disprove \"bird's nest congress each person gets 50,000 yuan\" still old people insist on going to beijing\n"
          ]
        }
      ],
      "source": [
        "#Convert Lowercase\n",
        "train[\"title1_en\"] = train[\"title1_en\"].str.lower()\n",
        "train[\"title2_en\"] = train[\"title2_en\"].str.lower()\n",
        "print(train['title1_en'].iloc[0])\n",
        "print(train['title2_en'].iloc[0])"
      ]
    },
    {
      "cell_type": "code",
      "execution_count": null,
      "metadata": {
        "colab": {
          "base_uri": "https://localhost:8080/"
        },
        "id": "lPLkpqQQ_bPu",
        "outputId": "8228f6e0-f5e8-442a-ddc9-99c2cb53e676"
      },
      "outputs": [
        {
          "name": "stdout",
          "output_type": "stream",
          "text": [
            "the great coat brother zhu zhu wen, in the mandarin love song to sing the song is really the lanca- talent is very sweet!\n",
            "lin xinsheng after the birth of \"hard milking,\" huo jianhua is not seen, \"forced marriage\" is real?\n"
          ]
        }
      ],
      "source": [
        "#Convert Lowercase\n",
        "test[\"title1_en\"] = test[\"title1_en\"].str.lower()\n",
        "test[\"title2_en\"] = test[\"title2_en\"].str.lower()\n",
        "print(test['title1_en'].iloc[0])\n",
        "print(test['title2_en'].iloc[0])"
      ]
    },
    {
      "cell_type": "code",
      "execution_count": null,
      "metadata": {
        "colab": {
          "base_uri": "https://localhost:8080/"
        },
        "id": "IqalFRjK-pHh",
        "outputId": "09e6c332-4f36-4f9d-b5b7-a1a3800f68f5"
      },
      "outputs": [
        {
          "name": "stdout",
          "output_type": "stream",
          "text": [
            "two new old-age insurance benefits old people rural areas. got them?\n",
            "police disprove \"bird's nest congress person gets 50,000 yuan\" still old people insist going beijing\n"
          ]
        }
      ],
      "source": [
        "#Remove stopwords\n",
        "from nltk.corpus import stopwords\n",
        "stop_words = set(stopwords.words('english'))\n",
        "train[\"title1_en\"] = train[\"title1_en\"].apply(lambda x: ' '.join([word for word in str(x).split() if word not in (stop_words)]))\n",
        "train[\"title2_en\"] = train[\"title2_en\"].apply(lambda x: ' '.join([word for word in str(x).split() if word not in (stop_words)]))\n",
        "print(train['title1_en'].iloc[0])\n",
        "print(train['title2_en'].iloc[0])"
      ]
    },
    {
      "cell_type": "code",
      "execution_count": null,
      "metadata": {
        "colab": {
          "base_uri": "https://localhost:8080/"
        },
        "id": "IFkeL8A1_dOB",
        "outputId": "08f3b65f-5c34-42f9-e2b5-64b18afeee3a"
      },
      "outputs": [
        {
          "name": "stdout",
          "output_type": "stream",
          "text": [
            "great coat brother zhu zhu wen, mandarin love song sing song really lanca- talent sweet!\n",
            "lin xinsheng birth \"hard milking,\" huo jianhua seen, \"forced marriage\" real?\n"
          ]
        }
      ],
      "source": [
        "#Remove stopwords\n",
        "from nltk.corpus import stopwords\n",
        "stop_words = set(stopwords.words('english'))\n",
        "test[\"title1_en\"] = test[\"title1_en\"].apply(lambda x: ' '.join([word for word in str(x).split() if word not in (stop_words)]))\n",
        "test[\"title2_en\"] = test[\"title2_en\"].apply(lambda x: ' '.join([word for word in str(x).split() if word not in (stop_words)]))\n",
        "print(test['title1_en'].iloc[0])\n",
        "print(test['title2_en'].iloc[0])"
      ]
    },
    {
      "cell_type": "code",
      "execution_count": null,
      "metadata": {
        "colab": {
          "base_uri": "https://localhost:8080/"
        },
        "id": "z_VgRedS-5sG",
        "outputId": "83031ab1-8388-4f9b-9908-b94134d5af53"
      },
      "outputs": [
        {
          "name": "stdout",
          "output_type": "stream",
          "text": [
            "two new old-age insurance benefits old people rural areas. got them?\n",
            "police disprove \"bird's nest congress person gets 50,000 yuan\" still old people insist going beijing\n"
          ]
        }
      ],
      "source": [
        "#Strip whitespace\n",
        "train[\"title1_en\"] = train[\"title1_en\"].str.strip()\n",
        "train[\"title2_en\"] = train[\"title2_en\"].str.strip()\n",
        "print(train['title1_en'].iloc[0])\n",
        "print(train['title2_en'].iloc[0])"
      ]
    },
    {
      "cell_type": "code",
      "execution_count": null,
      "metadata": {
        "colab": {
          "base_uri": "https://localhost:8080/"
        },
        "id": "moVI9t4b_fGg",
        "outputId": "6c1995a9-2e88-4483-e8a5-33073b69f4fb"
      },
      "outputs": [
        {
          "name": "stdout",
          "output_type": "stream",
          "text": [
            "great coat brother zhu zhu wen, mandarin love song sing song really lanca- talent sweet!\n",
            "lin xinsheng birth \"hard milking,\" huo jianhua seen, \"forced marriage\" real?\n"
          ]
        }
      ],
      "source": [
        "#Strip whitespace\n",
        "test[\"title1_en\"] = test[\"title1_en\"].str.strip()\n",
        "test[\"title2_en\"] = test[\"title2_en\"].str.strip()\n",
        "print(test['title1_en'].iloc[0])\n",
        "print(test['title2_en'].iloc[0])"
      ]
    },
    {
      "cell_type": "code",
      "execution_count": null,
      "metadata": {
        "colab": {
          "base_uri": "https://localhost:8080/"
        },
        "id": "lAvHXDTp_EcM",
        "outputId": "a2d44ba9-9b75-4979-f1ad-82ab57fb04a3"
      },
      "outputs": [
        {
          "name": "stdout",
          "output_type": "stream",
          "text": [
            "two new oldage insurance benefits old people rural areas got them\n",
            "police disprove birds nest congress person gets 50000 yuan still old people insist going beijing\n"
          ]
        }
      ],
      "source": [
        "#Remove punctuation\n",
        "import string\n",
        "string.punctuation\n",
        "train[\"title1_en\"] = train[\"title1_en\"].apply(lambda x: ''.join([word for word in str(x) if word not in (string.punctuation)]))\n",
        "train[\"title2_en\"] = train[\"title2_en\"].apply(lambda x: ''.join([word for word in str(x) if word not in (string.punctuation)]))\n",
        "print(train['title1_en'].iloc[0])\n",
        "print(train['title2_en'].iloc[0])"
      ]
    },
    {
      "cell_type": "code",
      "execution_count": null,
      "metadata": {
        "colab": {
          "base_uri": "https://localhost:8080/"
        },
        "id": "JZngbQFN_hwN",
        "outputId": "6b930787-a405-4f8a-9bd1-0be8f5f27e9a"
      },
      "outputs": [
        {
          "name": "stdout",
          "output_type": "stream",
          "text": [
            "great coat brother zhu zhu wen mandarin love song sing song really lanca talent sweet\n",
            "lin xinsheng birth hard milking huo jianhua seen forced marriage real\n"
          ]
        }
      ],
      "source": [
        "#Remove punctuation\n",
        "import string\n",
        "string.punctuation\n",
        "test[\"title1_en\"] = test[\"title1_en\"].apply(lambda x: ''.join([word for word in str(x) if word not in (string.punctuation)]))\n",
        "test[\"title2_en\"] = test[\"title2_en\"].apply(lambda x: ''.join([word for word in str(x) if word not in (string.punctuation)]))\n",
        "print(test['title1_en'].iloc[0])\n",
        "print(test['title2_en'].iloc[0])"
      ]
    },
    {
      "cell_type": "code",
      "execution_count": null,
      "metadata": {
        "colab": {
          "base_uri": "https://localhost:8080/"
        },
        "id": "q8kArycD_SQJ",
        "outputId": "6e439a15-e00a-4d66-ecc1-cb585bab641a"
      },
      "outputs": [
        {
          "name": "stdout",
          "output_type": "stream",
          "text": [
            "two new oldage insurance benefit old people rural area got them\n",
            "police disprove bird nest congress person get 50000 yuan still old people insist going beijing\n"
          ]
        }
      ],
      "source": [
        "#Lemmatization\n",
        "from nltk.stem import WordNetLemmatizer\n",
        "lemm = WordNetLemmatizer()\n",
        "train[\"title1_en\"] = train[\"title1_en\"].apply(lambda x: ' '.join([lemm.lemmatize(word) for word in str(x).split()]))\n",
        "train[\"title2_en\"] = train[\"title2_en\"].apply(lambda x: ' '.join([lemm.lemmatize(word) for word in str(x).split()]))\n",
        "print(train['title1_en'].iloc[0])\n",
        "print(train['title2_en'].iloc[0])"
      ]
    },
    {
      "cell_type": "code",
      "execution_count": null,
      "metadata": {
        "colab": {
          "base_uri": "https://localhost:8080/"
        },
        "id": "qXX9fwNy_kQ_",
        "outputId": "10929c7f-4075-448c-d65e-cf7ea03e0694"
      },
      "outputs": [
        {
          "name": "stdout",
          "output_type": "stream",
          "text": [
            "great coat brother zhu zhu wen mandarin love song sing song really lanca talent sweet\n",
            "lin xinsheng birth hard milking huo jianhua seen forced marriage real\n"
          ]
        }
      ],
      "source": [
        "#Lemmatization\n",
        "from nltk.stem import WordNetLemmatizer\n",
        "lemm = WordNetLemmatizer()\n",
        "test[\"title1_en\"] = test[\"title1_en\"].apply(lambda x: ' '.join([lemm.lemmatize(word) for word in str(x).split()]))\n",
        "test[\"title2_en\"] = test[\"title2_en\"].apply(lambda x: ' '.join([lemm.lemmatize(word) for word in str(x).split()]))\n",
        "print(test['title1_en'].iloc[0])\n",
        "print(test['title2_en'].iloc[0])"
      ]
    },
    {
      "cell_type": "code",
      "execution_count": null,
      "metadata": {
        "colab": {
          "base_uri": "https://localhost:8080/"
        },
        "id": "gnazbwT-mbaK",
        "outputId": "7de5d735-244e-4bbc-a11e-7a586a1ba634"
      },
      "outputs": [
        {
          "name": "stdout",
          "output_type": "stream",
          "text": [
            "two new oldage insurance benefit old people rural area got them\n",
            "police disprove bird nest congress person get 50000 yuan still old people insist going beijing\n"
          ]
        }
      ],
      "source": [
        "#After text processing train data\n",
        "print(train['title1_en'].iloc[0])\n",
        "print(train['title2_en'].iloc[0])"
      ]
    },
    {
      "cell_type": "code",
      "execution_count": null,
      "metadata": {
        "colab": {
          "base_uri": "https://localhost:8080/"
        },
        "id": "MId6Mf9zmbaL",
        "outputId": "6e6940fd-1358-4b78-fb58-0d5f7dd6a979"
      },
      "outputs": [
        {
          "name": "stdout",
          "output_type": "stream",
          "text": [
            "great coat brother zhu zhu wen mandarin love song sing song really lanca talent sweet\n",
            "lin xinsheng birth hard milking huo jianhua seen forced marriage real\n"
          ]
        }
      ],
      "source": [
        "#After text processing test data\n",
        "print(test['title1_en'].iloc[0])\n",
        "print(test['title2_en'].iloc[0])"
      ]
    },
    {
      "cell_type": "code",
      "execution_count": null,
      "metadata": {
        "id": "3nw1keaL_twl"
      },
      "outputs": [],
      "source": [
        "X = train['title1_en'] + '' + train['title2_en']\n",
        "y = train['label']"
      ]
    },
    {
      "cell_type": "code",
      "execution_count": null,
      "metadata": {
        "colab": {
          "base_uri": "https://localhost:8080/",
          "height": 53
        },
        "id": "6FZv7RTz_yIz",
        "outputId": "bcc44e0a-164a-48ec-f6c7-07ac9d647992"
      },
      "outputs": [
        {
          "data": {
            "application/vnd.google.colaboratory.intrinsic+json": {
              "type": "string"
            },
            "text/plain": [
              "'two new oldage insurance benefit old people rural area got thempolice disprove bird nest congress person get 50000 yuan still old people insist going beijing'"
            ]
          },
          "execution_count": 57,
          "metadata": {},
          "output_type": "execute_result"
        }
      ],
      "source": [
        "X[0]"
      ]
    },
    {
      "cell_type": "code",
      "execution_count": null,
      "metadata": {
        "colab": {
          "base_uri": "https://localhost:8080/"
        },
        "id": "emfvddjn_08s",
        "outputId": "f52a9a5b-290f-4e5f-f04f-02f76e7c0f1c"
      },
      "outputs": [
        {
          "data": {
            "text/plain": [
              "0    two new oldage insurance benefit old people ru...\n",
              "1    if come shenzhen sooner later son also come le...\n",
              "2    if come shenzhen sooner later son also come le...\n",
              "3    if come shenzhen sooner later son also come le...\n",
              "4    if come shenzhen sooner later son also come le...\n",
              "dtype: object"
            ]
          },
          "execution_count": 58,
          "metadata": {},
          "output_type": "execute_result"
        }
      ],
      "source": [
        "X.head(5)"
      ]
    },
    {
      "cell_type": "code",
      "execution_count": null,
      "metadata": {
        "id": "8NFEXiVW_6cQ"
      },
      "outputs": [],
      "source": [
        "vectorizer =TfidfVectorizer(stop_words= 'english')"
      ]
    },
    {
      "cell_type": "code",
      "execution_count": null,
      "metadata": {
        "id": "l3R4X0Xg_9BM"
      },
      "outputs": [],
      "source": [
        "#Create 80% train test and 20% validation test\n",
        "X_train, X_test, Y_train, Y_test = train_test_split(X, y, train_size=0.8, random_state=42)"
      ]
    },
    {
      "cell_type": "code",
      "execution_count": null,
      "metadata": {
        "id": "G4X39DwNADEE"
      },
      "outputs": [],
      "source": [
        "X_train = vectorizer.fit_transform(X_train)\n",
        "X_test = vectorizer.transform(X_test)"
      ]
    },
    {
      "cell_type": "code",
      "execution_count": null,
      "metadata": {
        "colab": {
          "base_uri": "https://localhost:8080/"
        },
        "id": "FjrelC5sAFuT",
        "outputId": "1ea24a6f-079b-42b3-9b80-cc4a35ca4866"
      },
      "outputs": [
        {
          "name": "stdout",
          "output_type": "stream",
          "text": [
            "(205153, 171130) (51289, 171130) (205153,) (51289,)\n"
          ]
        }
      ],
      "source": [
        "print(X_train.shape, X_test.shape, Y_train.shape, Y_test.shape)"
      ]
    },
    {
      "cell_type": "code",
      "execution_count": null,
      "metadata": {
        "colab": {
          "base_uri": "https://localhost:8080/"
        },
        "id": "sCMXFE-5AIFN",
        "outputId": "ae74d16c-1025-4ce9-d1c5-735fbb6c47bd"
      },
      "outputs": [
        {
          "name": "stdout",
          "output_type": "stream",
          "text": [
            "              precision    recall  f1-score   support\n",
            "\n",
            "      agreed       0.75      0.60      0.67     14813\n",
            "   disagreed       0.77      0.19      0.30      1321\n",
            "   unrelated       0.82      0.92      0.87     35155\n",
            "\n",
            "    accuracy                           0.80     51289\n",
            "   macro avg       0.78      0.57      0.61     51289\n",
            "weighted avg       0.80      0.80      0.79     51289\n",
            "\n",
            "Accuracy Score: 0.8047534559067246\n",
            "Recall Score: 0.8047534559067246\n",
            "Precision Score: 0.7994297392962509\n",
            "F1 Score: 0.7933414033568648\n",
            "[[ 8854    11  5948]\n",
            " [   45   245  1031]\n",
            " [ 2915    64 32176]]\n"
          ]
        }
      ],
      "source": [
        "#Logistic Regression Model\n",
        "lr = LogisticRegression(max_iter = 500)\n",
        "lr.fit(X_train,Y_train)\n",
        "Y_pred_lr = lr.predict(X_test)\n",
        "print(classification_report(Y_test, Y_pred_lr))\n",
        "#Accuracy Score\n",
        "print(\"Accuracy Score: {}\".format(accuracy_score(Y_test,Y_pred_lr)))\n",
        "#Recall score\n",
        "print(\"Recall Score: {}\".format(recall_score(Y_test,Y_pred_lr,average='weighted')))\n",
        "#Precision Score\n",
        "print('Precision Score: {}'.format(precision_score(Y_test,Y_pred_lr,average='weighted')))\n",
        "#F1 Score\n",
        "print('F1 Score: {}'.format(f1_score(Y_test,Y_pred_lr,average='weighted')))\n",
        "#Confusion Matrix\n",
        "print(confusion_matrix(Y_test,Y_pred_lr))"
      ]
    },
    {
      "cell_type": "code",
      "execution_count": null,
      "metadata": {
        "colab": {
          "base_uri": "https://localhost:8080/"
        },
        "id": "gFyDBQ68AK3r",
        "outputId": "f7f79847-9ef5-4d29-d2be-ee7c4b87da5b"
      },
      "outputs": [
        {
          "name": "stdout",
          "output_type": "stream",
          "text": [
            "              precision    recall  f1-score   support\n",
            "\n",
            "      agreed       0.87      0.22      0.35     14813\n",
            "   disagreed       1.00      0.01      0.02      1321\n",
            "   unrelated       0.73      0.99      0.84     35155\n",
            "\n",
            "    accuracy                           0.74     51289\n",
            "   macro avg       0.87      0.41      0.40     51289\n",
            "weighted avg       0.78      0.74      0.68     51289\n",
            "\n",
            "Accuracy Score: 0.7395932851098677\n",
            "Recall Score: 0.7395932851098677\n",
            "Precision Score: 0.7770855932526382\n",
            "F1 Score: 0.6763328701079517\n",
            "[[ 3240     0 11573]\n",
            " [    4    15  1302]\n",
            " [  477     0 34678]]\n"
          ]
        }
      ],
      "source": [
        "#Multinomial NaiveBayes Model\n",
        "mnb = MultinomialNB()\n",
        "mnb.fit(X_train,Y_train)\n",
        "Y_pred_mnb = mnb.predict(X_test)\n",
        "print(classification_report(Y_test, Y_pred_mnb))\n",
        "#Accuracy Score\n",
        "print(\"Accuracy Score: {}\".format(accuracy_score(Y_test,Y_pred_mnb)))\n",
        "#Recall score\n",
        "print(\"Recall Score: {}\".format(recall_score(Y_test,Y_pred_mnb,average='weighted')))\n",
        "#Precision Score\n",
        "print('Precision Score: {}'.format(precision_score(Y_test,Y_pred_mnb,average='weighted')))\n",
        "#F1 Score\n",
        "print('F1 Score: {}'.format(f1_score(Y_test,Y_pred_mnb,average='weighted')))\n",
        "#Confusion Matrix\n",
        "print(confusion_matrix(Y_test,Y_pred_mnb))"
      ]
    },
    {
      "cell_type": "code",
      "execution_count": null,
      "metadata": {
        "colab": {
          "base_uri": "https://localhost:8080/"
        },
        "id": "_2eF88W3AN1k",
        "outputId": "e0a69048-2f72-4c05-cf4b-020e19852b96"
      },
      "outputs": [
        {
          "name": "stdout",
          "output_type": "stream",
          "text": [
            "              precision    recall  f1-score   support\n",
            "\n",
            "      agreed       0.76      0.66      0.70     14813\n",
            "   disagreed       0.73      0.25      0.38      1321\n",
            "   unrelated       0.84      0.91      0.87     35155\n",
            "\n",
            "    accuracy                           0.82     51289\n",
            "   macro avg       0.78      0.61      0.65     51289\n",
            "weighted avg       0.81      0.82      0.81     51289\n",
            "\n",
            "Accuracy Score: 0.8194739612782468\n",
            "Recall Score: 0.8194739612782468\n",
            "Precision Score: 0.814375593526316\n",
            "F1 Score: 0.8120243238968857\n",
            "[[ 9731    17  5065]\n",
            " [   52   334   935]\n",
            " [ 3085   105 31965]]\n"
          ]
        }
      ],
      "source": [
        "#LinearSVC\n",
        "svc = LinearSVC()\n",
        "svc.fit(X_train,Y_train)\n",
        "Y_pred_svc = svc.predict(X_test)\n",
        "print(classification_report(Y_test, Y_pred_svc))\n",
        "#Accuracy Score\n",
        "print(\"Accuracy Score: {}\".format(accuracy_score(Y_test,Y_pred_svc)))\n",
        "#Recall score\n",
        "print(\"Recall Score: {}\".format(recall_score(Y_test,Y_pred_svc,average='weighted')))\n",
        "#Precision Score\n",
        "print('Precision Score: {}'.format(precision_score(Y_test,Y_pred_svc,average='weighted')))\n",
        "#F1 Score\n",
        "print('F1 Score: {}'.format(f1_score(Y_test,Y_pred_svc,average='weighted')))\n",
        "#Confusion Matrix\n",
        "print(confusion_matrix(Y_test,Y_pred_svc))"
      ]
    },
    {
      "cell_type": "code",
      "execution_count": null,
      "metadata": {
        "colab": {
          "base_uri": "https://localhost:8080/"
        },
        "id": "aOvrWfKLAQ0f",
        "outputId": "deaecd49-de2a-486f-91d8-e3f1bedd910d"
      },
      "outputs": [
        {
          "name": "stdout",
          "output_type": "stream",
          "text": [
            "              precision    recall  f1-score   support\n",
            "\n",
            "      agreed       0.65      0.66      0.65     14813\n",
            "   disagreed       0.42      0.36      0.39      1321\n",
            "   unrelated       0.83      0.83      0.83     35155\n",
            "\n",
            "    accuracy                           0.77     51289\n",
            "   macro avg       0.63      0.62      0.62     51289\n",
            "weighted avg       0.77      0.77      0.77     51289\n",
            "\n",
            "Accuracy Score: 0.7699701690420948\n",
            "Recall Score: 0.7699701690420948\n",
            "Precision Score: 0.7696022323865177\n",
            "F1 Score: 0.7697212175624862\n",
            "[[ 9753    51  5009]\n",
            " [   57   481   783]\n",
            " [ 5279   619 29257]]\n"
          ]
        }
      ],
      "source": [
        "#DecisionTreeClassifier Model\n",
        "dt = DecisionTreeClassifier()\n",
        "dt.fit(X_train,Y_train)\n",
        "Y_pred_dt = dt.predict(X_test)\n",
        "print(classification_report(Y_test, Y_pred_dt))\n",
        "#Accuracy Score\n",
        "print(\"Accuracy Score: {}\".format(accuracy_score(Y_test,Y_pred_dt)))\n",
        "#Recall score\n",
        "print(\"Recall Score: {}\".format(recall_score(Y_test,Y_pred_dt,average='weighted')))\n",
        "#Precision Score\n",
        "print('Precision Score: {}'.format(precision_score(Y_test,Y_pred_dt,average='weighted')))\n",
        "#F1 Score\n",
        "print('F1 Score: {}'.format(f1_score(Y_test,Y_pred_dt,average='weighted')))\n",
        "#Confusion Matrix\n",
        "print(confusion_matrix(Y_test,Y_pred_dt))"
      ]
    },
    {
      "cell_type": "code",
      "execution_count": null,
      "metadata": {
        "colab": {
          "base_uri": "https://localhost:8080/"
        },
        "id": "XJ8NaL6NATl5",
        "outputId": "5a52637f-f32b-49ed-f453-32a32357c00a"
      },
      "outputs": [
        {
          "name": "stdout",
          "output_type": "stream",
          "text": [
            "              precision    recall  f1-score   support\n",
            "\n",
            "      agreed       0.83      0.69      0.75     14813\n",
            "   disagreed       0.83      0.26      0.39      1321\n",
            "   unrelated       0.86      0.94      0.90     35155\n",
            "\n",
            "    accuracy                           0.85     51289\n",
            "   macro avg       0.84      0.63      0.68     51289\n",
            "weighted avg       0.85      0.85      0.84     51289\n",
            "\n",
            "Accuracy Score: 0.8501823002983095\n",
            "Recall Score: 0.8501823002983095\n",
            "Precision Score: 0.8484542597100638\n",
            "F1 Score: 0.8421384694873852\n",
            "[[10203    13  4597]\n",
            " [   26   338   957]\n",
            " [ 2033    58 33064]]\n"
          ]
        }
      ],
      "source": [
        "#RandomForestClassifier Model\n",
        "rf = RandomForestClassifier()\n",
        "rf.fit(X_train,Y_train)\n",
        "Y_pred_rf = rf.predict(X_test)\n",
        "print(classification_report(Y_test, Y_pred_rf))\n",
        "#Accuracy Score\n",
        "print(\"Accuracy Score: {}\".format(accuracy_score(Y_test,Y_pred_rf)))\n",
        "#Recall score\n",
        "print(\"Recall Score: {}\".format(recall_score(Y_test,Y_pred_rf,average='weighted')))\n",
        "#Precision Score\n",
        "print('Precision Score: {}'.format(precision_score(Y_test,Y_pred_rf,average='weighted')))\n",
        "#F1 Score\n",
        "print('F1 Score: {}'.format(f1_score(Y_test,Y_pred_rf,average='weighted')))\n",
        "#Confusion Matrix\n",
        "print(confusion_matrix(Y_test,Y_pred_rf))"
      ]
    },
    {
      "cell_type": "code",
      "execution_count": null,
      "metadata": {
        "colab": {
          "base_uri": "https://localhost:8080/"
        },
        "id": "eQLpDXDfP09_",
        "outputId": "d25f262b-afd6-42d1-ba5e-5aa443b66b8c"
      },
      "outputs": [
        {
          "data": {
            "text/plain": [
              "agreed       5285\n",
              "disagreed    5285\n",
              "unrelated    5285\n",
              "Name: label, dtype: int64"
            ]
          },
          "execution_count": 81,
          "metadata": {},
          "output_type": "execute_result"
        }
      ],
      "source": [
        "#Undersampling data\n",
        "rus = RandomUnderSampler()\n",
        "X_rus, Y_rus = rus.fit_resample(X_train, Y_train)\n",
        "Y_rus.value_counts()"
      ]
    },
    {
      "cell_type": "code",
      "execution_count": null,
      "metadata": {
        "colab": {
          "base_uri": "https://localhost:8080/"
        },
        "id": "FbnuDZP0ifLb",
        "outputId": "b9ec429e-48e6-43a0-84da-8781dbc0ccde"
      },
      "outputs": [
        {
          "name": "stdout",
          "output_type": "stream",
          "text": [
            "              precision    recall  f1-score   support\n",
            "\n",
            "      agreed       0.48      0.76      0.59     14813\n",
            "   disagreed       0.13      0.81      0.22      1321\n",
            "   unrelated       0.83      0.46      0.59     35155\n",
            "\n",
            "    accuracy                           0.56     51289\n",
            "   macro avg       0.48      0.68      0.47     51289\n",
            "weighted avg       0.71      0.56      0.58     51289\n",
            "\n",
            "Accuracy Score: 0.5564546004016456\n",
            "Recall Score: 0.5564546004016456\n",
            "Precision Score: 0.7141496229686666\n",
            "F1 Score: 0.5824463999296245\n",
            "[[11306   481  3026]\n",
            " [   78  1067   176]\n",
            " [12149  6839 16167]]\n"
          ]
        }
      ],
      "source": [
        "#Logistic Regression Model\n",
        "lr_rus = LogisticRegression(max_iter=500)\n",
        "lr_rus.fit(X_rus,Y_rus)\n",
        "Y_pred_lr_rus = lr_rus.predict(X_test)\n",
        "print(classification_report(Y_test, Y_pred_lr_rus))\n",
        "#Accuracy Score\n",
        "print(\"Accuracy Score: {}\".format(accuracy_score(Y_test,Y_pred_lr_rus)))\n",
        "#Recall score\n",
        "print(\"Recall Score: {}\".format(recall_score(Y_test,Y_pred_lr_rus,average='weighted')))\n",
        "#Precision Score\n",
        "print('Precision Score: {}'.format(precision_score(Y_test,Y_pred_lr_rus,average='weighted')))\n",
        "#F1 Score\n",
        "print('F1 Score: {}'.format(f1_score(Y_test,Y_pred_lr_rus,average='weighted')))\n",
        "#Confusion Matrix\n",
        "print(confusion_matrix(Y_test,Y_pred_lr_rus))"
      ]
    },
    {
      "cell_type": "code",
      "execution_count": null,
      "metadata": {
        "colab": {
          "base_uri": "https://localhost:8080/"
        },
        "id": "RoTJmvfuizLf",
        "outputId": "8bf5ef0c-fab3-437f-ac99-ac6b2cea5349"
      },
      "outputs": [
        {
          "name": "stdout",
          "output_type": "stream",
          "text": [
            "              precision    recall  f1-score   support\n",
            "\n",
            "      agreed       0.49      0.69      0.57     14813\n",
            "   disagreed       0.11      0.79      0.20      1321\n",
            "   unrelated       0.83      0.49      0.62     35155\n",
            "\n",
            "    accuracy                           0.56     51289\n",
            "   macro avg       0.48      0.66      0.46     51289\n",
            "weighted avg       0.71      0.56      0.59     51289\n",
            "\n",
            "Accuracy Score: 0.5601006063678372\n",
            "Recall Score: 0.5601006063678372\n",
            "Precision Score: 0.7098474145492171\n",
            "F1 Score: 0.594693119573099\n",
            "[[10294  1078  3441]\n",
            " [   53  1046   222]\n",
            " [10778  6990 17387]]\n"
          ]
        }
      ],
      "source": [
        "#Multinomial NaiveBayes Model\n",
        "mnb_rus = MultinomialNB()\n",
        "mnb_rus.fit(X_rus,Y_rus)\n",
        "Y_pred_mnb_rus = mnb_rus.predict(X_test)\n",
        "print(classification_report(Y_test, Y_pred_mnb_rus))\n",
        "#Accuracy Score\n",
        "print(\"Accuracy Score: {}\".format(accuracy_score(Y_test,Y_pred_mnb_rus)))\n",
        "#Recall score\n",
        "print(\"Recall Score: {}\".format(recall_score(Y_test,Y_pred_mnb_rus,average='weighted')))\n",
        "#Precision Score\n",
        "print('Precision Score: {}'.format(precision_score(Y_test,Y_pred_mnb_rus,average='weighted')))\n",
        "#F1 Score\n",
        "print('F1 Score: {}'.format(f1_score(Y_test,Y_pred_mnb_rus,average='weighted')))\n",
        "#Confusion Matrix\n",
        "print(confusion_matrix(Y_test,Y_pred_mnb_rus))"
      ]
    },
    {
      "cell_type": "code",
      "execution_count": null,
      "metadata": {
        "colab": {
          "base_uri": "https://localhost:8080/"
        },
        "id": "sh8SI0ZDjEXH",
        "outputId": "574e5d12-6ee3-4adc-9970-a87e6408599b"
      },
      "outputs": [
        {
          "name": "stdout",
          "output_type": "stream",
          "text": [
            "              precision    recall  f1-score   support\n",
            "\n",
            "      agreed       0.50      0.74      0.60     14813\n",
            "   disagreed       0.13      0.83      0.22      1321\n",
            "   unrelated       0.84      0.49      0.62     35155\n",
            "\n",
            "    accuracy                           0.57     51289\n",
            "   macro avg       0.49      0.69      0.48     51289\n",
            "weighted avg       0.72      0.57      0.60     51289\n",
            "\n",
            "Accuracy Score: 0.5715260582191113\n",
            "Recall Score: 0.5715260582191113\n",
            "Precision Score: 0.7193127868835444\n",
            "F1 Score: 0.6004276574719225\n",
            "[[11035   555  3223]\n",
            " [   61  1102   158]\n",
            " [11149  6830 17176]]\n"
          ]
        }
      ],
      "source": [
        "#LinearSVC\n",
        "svc_rus = LinearSVC()\n",
        "svc_rus.fit(X_rus,Y_rus)\n",
        "Y_pred_svc_rus = svc_rus.predict(X_test)\n",
        "print(classification_report(Y_test, Y_pred_svc_rus))\n",
        "#Accuracy Score\n",
        "print(\"Accuracy Score: {}\".format(accuracy_score(Y_test,Y_pred_svc_rus)))\n",
        "#Recall score\n",
        "print(\"Recall Score: {}\".format(recall_score(Y_test,Y_pred_svc_rus,average='weighted')))\n",
        "#Precision Score\n",
        "print('Precision Score: {}'.format(precision_score(Y_test,Y_pred_svc_rus,average='weighted')))\n",
        "#F1 Score\n",
        "print('F1 Score: {}'.format(f1_score(Y_test,Y_pred_svc_rus,average='weighted')))\n",
        "#Confusion Matrix\n",
        "print(confusion_matrix(Y_test,Y_pred_svc_rus))"
      ]
    },
    {
      "cell_type": "code",
      "execution_count": null,
      "metadata": {
        "colab": {
          "base_uri": "https://localhost:8080/"
        },
        "id": "i_uqO3WzjHsD",
        "outputId": "ed1bae92-46aa-464d-ce85-e51c91865923"
      },
      "outputs": [
        {
          "name": "stdout",
          "output_type": "stream",
          "text": [
            "              precision    recall  f1-score   support\n",
            "\n",
            "      agreed       0.47      0.66      0.55     14813\n",
            "   disagreed       0.10      0.75      0.18      1321\n",
            "   unrelated       0.78      0.45      0.58     35155\n",
            "\n",
            "    accuracy                           0.52     51289\n",
            "   macro avg       0.45      0.62      0.43     51289\n",
            "weighted avg       0.67      0.52      0.56     51289\n",
            "\n",
            "Accuracy Score: 0.5221197527734992\n",
            "Recall Score: 0.5221197527734992\n",
            "Precision Score: 0.6742989455151536\n",
            "F1 Score: 0.5573251788901403\n",
            "[[ 9804   789  4220]\n",
            " [  105   989   227]\n",
            " [10990  8179 15986]]\n"
          ]
        }
      ],
      "source": [
        "#DecisionTreeClassifier Model\n",
        "dt_rus = DecisionTreeClassifier()\n",
        "dt_rus.fit(X_rus,Y_rus)\n",
        "Y_pred_dt_rus = dt_rus.predict(X_test)\n",
        "print(classification_report(Y_test, Y_pred_dt_rus))\n",
        "#Accuracy Score\n",
        "print(\"Accuracy Score: {}\".format(accuracy_score(Y_test,Y_pred_dt_rus)))\n",
        "#Recall score\n",
        "print(\"Recall Score: {}\".format(recall_score(Y_test,Y_pred_dt_rus,average='weighted')))\n",
        "#Precision Score\n",
        "print('Precision Score: {}'.format(precision_score(Y_test,Y_pred_dt_rus,average='weighted')))\n",
        "#F1 Score\n",
        "print('F1 Score: {}'.format(f1_score(Y_test,Y_pred_dt_rus,average='weighted')))\n",
        "#Confusion Matrix\n",
        "print(confusion_matrix(Y_test,Y_pred_dt_rus))"
      ]
    },
    {
      "cell_type": "code",
      "execution_count": null,
      "metadata": {
        "colab": {
          "base_uri": "https://localhost:8080/"
        },
        "id": "0TcLm2kpjLaU",
        "outputId": "a8c7e54c-867f-4393-b568-5d83fa68a3fc"
      },
      "outputs": [
        {
          "name": "stdout",
          "output_type": "stream",
          "text": [
            "              precision    recall  f1-score   support\n",
            "\n",
            "      agreed       0.46      0.89      0.61     14813\n",
            "   disagreed       0.10      0.90      0.19      1321\n",
            "   unrelated       0.89      0.29      0.43     35155\n",
            "\n",
            "    accuracy                           0.48     51289\n",
            "   macro avg       0.49      0.69      0.41     51289\n",
            "weighted avg       0.75      0.48      0.48     51289\n",
            "\n",
            "Accuracy Score: 0.47653492951705045\n",
            "Recall Score: 0.47653492951705045\n",
            "Precision Score: 0.7485107762342317\n",
            "F1 Score: 0.4777105536399271\n",
            "[[13179   488  1146]\n",
            " [   89  1183    49]\n",
            " [15337  9739 10079]]\n"
          ]
        }
      ],
      "source": [
        "#RandomForestClassifier Model\n",
        "rf_rus = RandomForestClassifier()\n",
        "rf_rus.fit(X_rus,Y_rus)\n",
        "Y_pred_rf_rus = rf_rus.predict(X_test)\n",
        "print(classification_report(Y_test, Y_pred_rf_rus))\n",
        "#Accuracy Score\n",
        "print(\"Accuracy Score: {}\".format(accuracy_score(Y_test,Y_pred_rf_rus)))\n",
        "#Recall score\n",
        "print(\"Recall Score: {}\".format(recall_score(Y_test,Y_pred_rf_rus,average='weighted')))\n",
        "#Precision Score\n",
        "print('Precision Score: {}'.format(precision_score(Y_test,Y_pred_rf_rus,average='weighted')))\n",
        "#F1 Score\n",
        "print('F1 Score: {}'.format(f1_score(Y_test,Y_pred_rf_rus,average='weighted')))\n",
        "#Confusion Matrix\n",
        "print(confusion_matrix(Y_test,Y_pred_rf_rus))"
      ]
    },
    {
      "cell_type": "code",
      "execution_count": null,
      "metadata": {
        "colab": {
          "base_uri": "https://localhost:8080/"
        },
        "id": "msxpQBbljQY4",
        "outputId": "b1dd0311-1f55-4014-e39f-3d5edb76fe13"
      },
      "outputs": [
        {
          "data": {
            "text/plain": [
              "unrelated    140443\n",
              "disagreed    140443\n",
              "agreed        59425\n",
              "Name: label, dtype: int64"
            ]
          },
          "execution_count": 87,
          "metadata": {},
          "output_type": "execute_result"
        }
      ],
      "source": [
        "#Synthetic Minority Oversampling Technique(SMOTE)\n",
        "s = SMOTE(sampling_strategy='minority')\n",
        "X_s, Y_s = s.fit_resample(X_train, Y_train)\n",
        "Y_s.value_counts()"
      ]
    },
    {
      "cell_type": "code",
      "execution_count": null,
      "metadata": {
        "colab": {
          "base_uri": "https://localhost:8080/"
        },
        "id": "kd5L9VYdkDRs",
        "outputId": "3d2fcdaf-ac3d-45f4-9fa9-d1d3685a4b2f"
      },
      "outputs": [
        {
          "name": "stdout",
          "output_type": "stream",
          "text": [
            "              precision    recall  f1-score   support\n",
            "\n",
            "      agreed       0.75      0.60      0.66     14813\n",
            "   disagreed       0.29      0.68      0.40      1321\n",
            "   unrelated       0.83      0.86      0.84     35155\n",
            "\n",
            "    accuracy                           0.78     51289\n",
            "   macro avg       0.62      0.71      0.64     51289\n",
            "weighted avg       0.79      0.78      0.78     51289\n",
            "\n",
            "Accuracy Score: 0.7780810700150129\n",
            "Recall Score: 0.7780810700150129\n",
            "Precision Score: 0.792047066032957\n",
            "F1 Score: 0.7804441490837397\n",
            "[[ 8829   213  5771]\n",
            " [   22   896   403]\n",
            " [ 2977  1996 30182]]\n"
          ]
        }
      ],
      "source": [
        "#Logistic Regression Model\n",
        "lr_s = LogisticRegression(max_iter=600)\n",
        "lr_s.fit(X_s,Y_s)\n",
        "Y_pred_lr_s = lr_s.predict(X_test)\n",
        "print(classification_report(Y_test, Y_pred_lr_s))\n",
        "#Accuracy Score\n",
        "print(\"Accuracy Score: {}\".format(accuracy_score(Y_test,Y_pred_lr_s)))\n",
        "#Recall score\n",
        "print(\"Recall Score: {}\".format(recall_score(Y_test,Y_pred_lr_s,average='weighted')))\n",
        "#Precision Score\n",
        "print('Precision Score: {}'.format(precision_score(Y_test,Y_pred_lr_s,average='weighted')))\n",
        "#F1 Score\n",
        "print('F1 Score: {}'.format(f1_score(Y_test,Y_pred_lr_s,average='weighted')))\n",
        "#Confusion Matrix\n",
        "print(confusion_matrix(Y_test,Y_pred_lr_s))"
      ]
    },
    {
      "cell_type": "code",
      "execution_count": null,
      "metadata": {
        "colab": {
          "base_uri": "https://localhost:8080/"
        },
        "id": "QXxmp1f7kIwE",
        "outputId": "e7bfb94f-e7c0-427f-cf21-ea945e7a9286"
      },
      "outputs": [
        {
          "name": "stdout",
          "output_type": "stream",
          "text": [
            "              precision    recall  f1-score   support\n",
            "\n",
            "      agreed       0.87      0.22      0.35     14813\n",
            "   disagreed       0.18      0.75      0.28      1321\n",
            "   unrelated       0.73      0.88      0.80     35155\n",
            "\n",
            "    accuracy                           0.68     51289\n",
            "   macro avg       0.59      0.61      0.48     51289\n",
            "weighted avg       0.76      0.68      0.66     51289\n",
            "\n",
            "Accuracy Score: 0.6830704439548441\n",
            "Recall Score: 0.6830704439548441\n",
            "Precision Score: 0.7593947412906107\n",
            "F1 Score: 0.6553855442192174\n",
            "[[ 3198   798 10817]\n",
            " [    4   985   332]\n",
            " [  472  3832 30851]]\n"
          ]
        }
      ],
      "source": [
        "#Multinomial NaiveBayes Model\n",
        "mnb_s = MultinomialNB()\n",
        "mnb_s.fit(X_s,Y_s)\n",
        "Y_pred_mnb_s = mnb_s.predict(X_test)\n",
        "print(classification_report(Y_test, Y_pred_mnb_s))\n",
        "#Accuracy Score\n",
        "print(\"Accuracy Score: {}\".format(accuracy_score(Y_test,Y_pred_mnb_s)))\n",
        "#Recall score\n",
        "print(\"Recall Score: {}\".format(recall_score(Y_test,Y_pred_mnb_s,average='weighted')))\n",
        "#Precision Score\n",
        "print('Precision Score: {}'.format(precision_score(Y_test,Y_pred_mnb_s,average='weighted')))\n",
        "#F1 Score\n",
        "print('F1 Score: {}'.format(f1_score(Y_test,Y_pred_mnb_s,average='weighted')))\n",
        "#Confusion Matrix\n",
        "print(confusion_matrix(Y_test,Y_pred_mnb_s))"
      ]
    },
    {
      "cell_type": "code",
      "execution_count": null,
      "metadata": {
        "colab": {
          "base_uri": "https://localhost:8080/"
        },
        "id": "rOLmK01XkL7a",
        "outputId": "b02b0b74-4389-4e85-9883-c70c3d88fa6b"
      },
      "outputs": [
        {
          "name": "stdout",
          "output_type": "stream",
          "text": [
            "              precision    recall  f1-score   support\n",
            "\n",
            "      agreed       0.76      0.65      0.70     14813\n",
            "   disagreed       0.40      0.56      0.47      1321\n",
            "   unrelated       0.85      0.89      0.87     35155\n",
            "\n",
            "    accuracy                           0.81     51289\n",
            "   macro avg       0.67      0.70      0.68     51289\n",
            "weighted avg       0.81      0.81      0.81     51289\n",
            "\n",
            "Accuracy Score: 0.808516446021564\n",
            "Recall Score: 0.808516446021564\n",
            "Precision Score: 0.8093676329317371\n",
            "F1 Score: 0.807086502201345\n",
            "[[ 9610   111  5092]\n",
            " [   30   737   554]\n",
            " [ 3040   994 31121]]\n"
          ]
        }
      ],
      "source": [
        "#LinearSVC Model\n",
        "svc_s = LinearSVC()\n",
        "svc_s.fit(X_s,Y_s)\n",
        "Y_pred_svc_s = svc_s.predict(X_test)\n",
        "print(classification_report(Y_test, Y_pred_svc_s))\n",
        "#Accuracy Score\n",
        "print(\"Accuracy Score: {}\".format(accuracy_score(Y_test,Y_pred_svc_s)))\n",
        "#Recall score\n",
        "print(\"Recall Score: {}\".format(recall_score(Y_test,Y_pred_svc_s,average='weighted')))\n",
        "#Precision Score\n",
        "print('Precision Score: {}'.format(precision_score(Y_test,Y_pred_svc_s,average='weighted')))\n",
        "#F1 Score\n",
        "print('F1 Score: {}'.format(f1_score(Y_test,Y_pred_svc_s,average='weighted')))\n",
        "#Confusion Matrix\n",
        "print(confusion_matrix(Y_test,Y_pred_svc_s))"
      ]
    },
    {
      "cell_type": "code",
      "execution_count": null,
      "metadata": {
        "colab": {
          "base_uri": "https://localhost:8080/"
        },
        "id": "o0pxz1jlrCKt",
        "outputId": "dac9b8c7-72c2-4d5b-e875-b6422320f8ef"
      },
      "outputs": [
        {
          "name": "stdout",
          "output_type": "stream",
          "text": [
            "              precision    recall  f1-score   support\n",
            "\n",
            "      agreed       0.66      0.66      0.66     14813\n",
            "   disagreed       0.31      0.40      0.35      1321\n",
            "   unrelated       0.84      0.82      0.83     35155\n",
            "\n",
            "    accuracy                           0.77     51289\n",
            "   macro avg       0.60      0.63      0.61     51289\n",
            "weighted avg       0.77      0.77      0.77     51289\n",
            "\n",
            "Accuracy Score: 0.767357523055626\n",
            "Recall Score: 0.767357523055626\n",
            "Precision Score: 0.7716001853469177\n",
            "F1 Score: 0.769307301489134\n",
            "[[ 9836    56  4921]\n",
            " [   54   528   739]\n",
            " [ 5055  1107 28993]]\n"
          ]
        }
      ],
      "source": [
        "#DecisionTreeClassifier Model\n",
        "dt_s = DecisionTreeClassifier()\n",
        "dt_s.fit(X_s,Y_s)\n",
        "Y_pred_dt_s = dt_s.predict(X_test)\n",
        "print(classification_report(Y_test, Y_pred_dt_s))\n",
        "#Accuracy Score\n",
        "print(\"Accuracy Score: {}\".format(accuracy_score(Y_test,Y_pred_dt_s)))\n",
        "#Recall score\n",
        "print(\"Recall Score: {}\".format(recall_score(Y_test,Y_pred_dt_s,average='weighted')))\n",
        "#Precision Score\n",
        "print('Precision Score: {}'.format(precision_score(Y_test,Y_pred_dt_s,average='weighted')))\n",
        "#F1 Score\n",
        "print('F1 Score: {}'.format(f1_score(Y_test,Y_pred_dt_s,average='weighted')))\n",
        "#Confusion Matrix\n",
        "print(confusion_matrix(Y_test,Y_pred_dt_s))"
      ]
    },
    {
      "cell_type": "code",
      "execution_count": null,
      "metadata": {
        "colab": {
          "base_uri": "https://localhost:8080/"
        },
        "id": "vqbts0xlB83W",
        "outputId": "5d41e662-defe-463b-c37d-039dd0afe323"
      },
      "outputs": [
        {
          "name": "stdout",
          "output_type": "stream",
          "text": [
            "              precision    recall  f1-score   support\n",
            "\n",
            "      agreed       0.85      0.68      0.75     14813\n",
            "   disagreed       0.67      0.41      0.51      1321\n",
            "   unrelated       0.86      0.94      0.90     35155\n",
            "\n",
            "    accuracy                           0.85     51289\n",
            "   macro avg       0.79      0.68      0.72     51289\n",
            "weighted avg       0.85      0.85      0.85     51289\n",
            "\n",
            "Accuracy Score: 0.852288014973971\n",
            "Recall Score: 0.852288014973971\n",
            "Precision Score: 0.8500328454577797\n",
            "F1 Score: 0.8460225998445388\n",
            "[[10007    28  4778]\n",
            " [   12   541   768]\n",
            " [ 1757   233 33165]]\n"
          ]
        }
      ],
      "source": [
        "#RandomForestClassifier Model\n",
        "rf_s = RandomForestClassifier()\n",
        "rf_s.fit(X_s,Y_s)\n",
        "Y_pred_rf_s = rf_s.predict(X_test)\n",
        "print(classification_report(Y_test, Y_pred_rf_s))\n",
        "#Accuracy Score\n",
        "print(\"Accuracy Score: {}\".format(accuracy_score(Y_test,Y_pred_rf_s)))\n",
        "#Recall score\n",
        "print(\"Recall Score: {}\".format(recall_score(Y_test,Y_pred_rf_s,average='weighted')))\n",
        "#Precision Score\n",
        "print('Precision Score: {}'.format(precision_score(Y_test,Y_pred_rf_s,average='weighted')))\n",
        "#F1 Score\n",
        "print('F1 Score: {}'.format(f1_score(Y_test,Y_pred_rf_s,average='weighted')))\n",
        "#Confusion Matrix\n",
        "print(confusion_matrix(Y_test,Y_pred_rf_s))"
      ]
    }
  ],
  "metadata": {
    "colab": {
      "provenance": []
    },
    "kernelspec": {
      "display_name": "Python 3",
      "name": "python3"
    },
    "language_info": {
      "name": "python"
    }
  },
  "nbformat": 4,
  "nbformat_minor": 0
}
